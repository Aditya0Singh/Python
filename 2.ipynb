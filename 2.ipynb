{
 "cells": [
  {
   "cell_type": "code",
   "execution_count": null,
   "id": "5eb23f41",
   "metadata": {},
   "outputs": [],
   "source": [
    "#3 Write a program that computes the value of a+aa+aaa+aaaa with a given digit as the value of a. \n",
    "# Suppose the input is supplied to the program: 9 \n",
    "# Then, the output should be: 11106 \n",
    "\n",
    "a = input('enter the value:- ')\n",
    "c = 0\n",
    "for i in range(1,5):\n",
    "    b=(a*i)\n",
    "    b=int(b)\n",
    "    print(b*i)\n",
    "    c=c+b\n",
    "print(c)\n",
    "    \n",
    "    "
   ]
  }
 ],
 "metadata": {
  "kernelspec": {
   "display_name": "Python 3 (ipykernel)",
   "language": "python",
   "name": "python3"
  },
  "language_info": {
   "codemirror_mode": {
    "name": "ipython",
    "version": 3
   },
   "file_extension": ".py",
   "mimetype": "text/x-python",
   "name": "python",
   "nbconvert_exporter": "python",
   "pygments_lexer": "ipython3",
   "version": "3.9.7"
  }
 },
 "nbformat": 4,
 "nbformat_minor": 5
}
