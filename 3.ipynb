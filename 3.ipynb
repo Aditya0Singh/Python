{
 "cells": [
  {
   "cell_type": "code",
   "execution_count": null,
   "id": "c1112a5c",
   "metadata": {},
   "outputs": [],
   "source": [
    "#4\n",
    "a = input('enter:- ').split(',')\n",
    "b = [i for i in a if int(i)%2!=0]\n",
    "b"
   ]
  }
 ],
 "metadata": {
  "kernelspec": {
   "display_name": "Python 3 (ipykernel)",
   "language": "python",
   "name": "python3"
  },
  "language_info": {
   "codemirror_mode": {
    "name": "ipython",
    "version": 3
   },
   "file_extension": ".py",
   "mimetype": "text/x-python",
   "name": "python",
   "nbconvert_exporter": "python",
   "pygments_lexer": "ipython3",
   "version": "3.9.7"
  }
 },
 "nbformat": 4,
 "nbformat_minor": 5
}
