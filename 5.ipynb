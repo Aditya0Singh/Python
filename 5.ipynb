{
 "cells": [
  {
   "cell_type": "code",
   "execution_count": null,
   "id": "4e78e56d",
   "metadata": {},
   "outputs": [],
   "source": [
    "#6 Write a program to compute the frequency of the words from the input. The output should output after sorting the key alphanumerically. \n",
    "# Suppose the input is supplied to the program: \n",
    "# New to Python or choosing between Python 2 and Python 3? Read Python 2 or Python 3. \n",
    "# Then, the output should be: \n",
    "# 2:2 \n",
    "# 3.:1 \n",
    "# 3?:1 \n",
    "# New:1 \n",
    "# Python:5 \n",
    "# Read:1 \n",
    "# and:1 \n",
    "# between:1 \n",
    "# choosing:1 \n",
    "# or:2 \n",
    "# to:1 \n",
    "\n",
    "a = input('enter:- ').split()\n",
    "# d = {i: a.count(i) for i in a}\n",
    "# print(d)\n",
    "for i in a:\n",
    "    print({i:a.count(i)})\n"
   ]
  }
 ],
 "metadata": {
  "kernelspec": {
   "display_name": "Python 3 (ipykernel)",
   "language": "python",
   "name": "python3"
  },
  "language_info": {
   "codemirror_mode": {
    "name": "ipython",
    "version": 3
   },
   "file_extension": ".py",
   "mimetype": "text/x-python",
   "name": "python",
   "nbconvert_exporter": "python",
   "pygments_lexer": "ipython3",
   "version": "3.9.7"
  }
 },
 "nbformat": 4,
 "nbformat_minor": 5
}
