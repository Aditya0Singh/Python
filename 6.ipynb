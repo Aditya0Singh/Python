{
 "cells": [
  {
   "cell_type": "code",
   "execution_count": null,
   "id": "48c6d356",
   "metadata": {},
   "outputs": [],
   "source": [
    "# Write a program to compute the frequency of the words from the input. The output should output after sorting the key alphanumerically. \n",
    "# Suppose the input is supplied to the program: \n",
    "# New to Python or choosing between Python 2 and Python 3? Read Python 2 or Python 3. \n",
    "\n",
    "a = input('enter:- ').split()\n",
    "# d = {i: a.count(i) for i in a}\n",
    "# print(d)\n",
    "for i in a:\n",
    "    print({i:a.count(i)})\n",
    "\n"
   ]
  }
 ],
 "metadata": {
  "kernelspec": {
   "display_name": "Python 3 (ipykernel)",
   "language": "python",
   "name": "python3"
  },
  "language_info": {
   "codemirror_mode": {
    "name": "ipython",
    "version": 3
   },
   "file_extension": ".py",
   "mimetype": "text/x-python",
   "name": "python",
   "nbconvert_exporter": "python",
   "pygments_lexer": "ipython3",
   "version": "3.9.7"
  }
 },
 "nbformat": 4,
 "nbformat_minor": 5
}
