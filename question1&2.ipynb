{
 "cells": [
  {
   "cell_type": "code",
   "execution_count": null,
   "id": "babed8f6",
   "metadata": {},
   "outputs": [],
   "source": [
    "#1&2\n",
    "#1. Write a program that accepts a sentence and calculate the number of letters and digits. \n",
    "# Suppose the input is supplied to the program: hello world! 123 \n",
    "# Then, the output should be: LETTERS 10\n",
    "# 2. Write a program that accepts a sentence and calculate the number of upper case letters and lower case letters. \n",
    "# Suppose the input is supplied to the program: Hello world! \n",
    "# Then, the output should be: UPPER CASE 1 \n",
    "\n",
    "a = input('enter:- ')\n",
    "b=0\n",
    "c=0\n",
    "d=0\n",
    "e=0\n",
    "for i in a:\n",
    "    if i.isalpha():\n",
    "        b=b+1\n",
    "    if i.isdigit():\n",
    "        c=c+1\n",
    "    if i.isupper():\n",
    "        d=d+1\n",
    "    if i.islower():\n",
    "        e=e+1\n",
    "print('letters',b)\n",
    "print('digits',c)\n",
    "print('upper',d)\n",
    "print('lower',e)"
   ]
  }
 ],
 "metadata": {
  "kernelspec": {
   "display_name": "Python 3 (ipykernel)",
   "language": "python",
   "name": "python3"
  },
  "language_info": {
   "codemirror_mode": {
    "name": "ipython",
    "version": 3
   },
   "file_extension": ".py",
   "mimetype": "text/x-python",
   "name": "python",
   "nbconvert_exporter": "python",
   "pygments_lexer": "ipython3",
   "version": "3.9.7"
  }
 },
 "nbformat": 4,
 "nbformat_minor": 5
}
