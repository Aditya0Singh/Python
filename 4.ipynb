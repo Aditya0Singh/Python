{
 "cells": [
  {
   "cell_type": "code",
   "execution_count": null,
   "id": "1574ffc2",
   "metadata": {},
   "outputs": [],
   "source": [
    "#5 Write a program that computes the net amount of a bank account based a transaction log from console input. The transaction log format is shown as following: \n",
    "# D 100 \n",
    "# W 200 \n",
    "# --D means deposit while W means withdrawal. \n",
    "# Suppose the input is supplied to the program: \n",
    "# D 300\n",
    "\n",
    "# D 300 \n",
    "# W 200 \n",
    "# D 100 \n",
    "# Then, the output should be: 500 \n",
    "\n",
    "a= int(input('enter deposits:- '))\n",
    "b= int(input('enter withdrawl:- '))\n",
    "balance= 0\n",
    "balance=a+balance\n",
    "print('deposited' ,balance)\n",
    "balance=balance-b\n",
    "print('balance left',balance)\n"
   ]
  }
 ],
 "metadata": {
  "kernelspec": {
   "display_name": "Python 3 (ipykernel)",
   "language": "python",
   "name": "python3"
  },
  "language_info": {
   "codemirror_mode": {
    "name": "ipython",
    "version": 3
   },
   "file_extension": ".py",
   "mimetype": "text/x-python",
   "name": "python",
   "nbconvert_exporter": "python",
   "pygments_lexer": "ipython3",
   "version": "3.9.7"
  }
 },
 "nbformat": 4,
 "nbformat_minor": 5
}
